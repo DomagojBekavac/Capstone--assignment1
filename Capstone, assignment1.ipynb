{
 "cells": [
  {
   "cell_type": "code",
   "execution_count": 9,
   "metadata": {},
   "outputs": [],
   "source": [
    "import numpy as np\n",
    "import pandas as pd"
   ]
  },
  {
   "cell_type": "markdown",
   "metadata": {},
   "source": [
    "# Task 1\n",
    "You are given a list of numbers. Find maximum difference between any two numbers in the list,\n",
    "with the condition that the smaller number must appear on the right from the greater number (i.e.\n",
    "have greater index in the list)\n",
    "Sample input: [2,6,3,5,1,7]\n",
    "Sample output:\n",
    "5"
   ]
  },
  {
   "cell_type": "code",
   "execution_count": 11,
   "metadata": {},
   "outputs": [
    {
     "name": "stdout",
     "output_type": "stream",
     "text": [
      "5\n"
     ]
    }
   ],
   "source": [
    "def maxdiff(n):\n",
    "    maxval = n[0]\n",
    "    maxdiff = 0\n",
    "    len1 = len(n)\n",
    "    for i in range(len1):\n",
    "        if (n[i] > maxval):\n",
    "            maxval = n[i]\n",
    "        elif (maxval - n[i] > maxdiff):\n",
    "             maxdiff = maxval - n[i]\n",
    "    return maxdiff\n",
    "\n",
    "n = [2,6,3,5,1,7]\n",
    "print (maxdiff(n))"
   ]
  },
  {
   "cell_type": "markdown",
   "metadata": {},
   "source": [
    "# Task 2\n",
    "Fred is a very predictable man. For instance, when he uses his laptop, all he does is watch TV\n",
    "shows. He keeps on watching TV shows until his battery dies. Also, he is a very meticulous man,\n",
    "i.e. he pays great attention to minute details. He has been keeping logs of every time he charged\n",
    "his laptop, which includes how long he charged his laptop for and after that how long was he able\n",
    "to watch the TV. Now, Fred wants to use this log to predict how long will he be able to watch TV\n",
    "for when he starts so that he can plan his activities after watching his TV shows accordingly.\n",
    "You are given access to Fred’s laptop charging log by reading from the file “trainingdata.txt”. The\n",
    "training data file will consist of 100 lines, each with 2 comma-separated numbers.\n",
    "1. The first number denotes the amount of time the laptop was charged.\n",
    "2. The second number denotes the amount of time the battery lasted.\n",
    "The training data file can be found in Fred.txt file (this will be the same training data used\n",
    "when your program is run). The input for each of the test cases will consist of exactly 1 number\n",
    "rounded to 2 decimal places. For each input, output 1 number: the amount of time you predict his\n",
    "battery will last.\n",
    "Sample Input\n",
    "1.50\n",
    "Sample Output\n",
    "3.00"
   ]
  },
  {
   "cell_type": "code",
   "execution_count": 14,
   "metadata": {},
   "outputs": [],
   "source": [
    "fred = pd.read_csv(\"Fred.txt\", names=[\"Charged\", \"Lasted\"]) "
   ]
  },
  {
   "cell_type": "code",
   "execution_count": 25,
   "metadata": {},
   "outputs": [
    {
     "name": "stdout",
     "output_type": "stream",
     "text": [
      "    Charged  Lasted\n",
      "0      2.81    5.62\n",
      "1      7.14    8.00\n",
      "2      2.72    5.44\n",
      "3      3.87    7.74\n",
      "4      1.90    3.80\n",
      "..      ...     ...\n",
      "95     4.38    8.00\n",
      "96     8.06    8.00\n",
      "97     8.05    8.00\n",
      "98     1.10    2.20\n",
      "99     6.65    8.00\n",
      "\n",
      "[100 rows x 2 columns]\n"
     ]
    }
   ],
   "source": [
    "print(fred)"
   ]
  },
  {
   "cell_type": "code",
   "execution_count": 36,
   "metadata": {},
   "outputs": [],
   "source": [
    "# Lasted is 2*Charged when Lasted <= 4.00"
   ]
  },
  {
   "cell_type": "code",
   "execution_count": 45,
   "metadata": {},
   "outputs": [
    {
     "name": "stdout",
     "output_type": "stream",
     "text": [
      "3.0\n"
     ]
    }
   ],
   "source": [
    "input1 = 1.5\n",
    "if input1 >= 4.0:\n",
    "           print (8.0)\n",
    "else:\n",
    "           print (2*input1)"
   ]
  },
  {
   "cell_type": "markdown",
   "metadata": {},
   "source": [
    "# Task 3\n",
    "The money flow index (MFI) is a momentum indicator that measures the inflow and outflow of\n",
    "money into and out of a security over a specific period of time. It is computed as given below, and\n",
    "can assume values between 0 and 100.\n",
    "• Money Flow Index = 100 x Money Ratio ⁄ (1 + Money Ratio)\n",
    "• Money Ratio = Positive Money Flow Sum ⁄ Negative Money Flow Sum\n",
    "• Money Flow = Typical Price × Volume\n",
    "• Typical Price = (High Price + Low Price + Close Price) ⁄ 3\n",
    "The concepts of Positive and Negative Money Flow are defined as follows: on any given day, the\n",
    "Money Flow is denoted positive / negative if the Typical Price is higher / lower than the previous\n",
    "day's typical price. If the Typical Price is unchanged then that day's data are discarded. The Positive\n",
    "Money Flow Sum is the sum of all the Positive Money Flow over a sliding window of n days. The\n",
    "Negative Money Flow Sum is the sum of all the Negative Money Flow over a sliding window of\n",
    "n days.\n",
    "Given the stock price data consisting of open, close, volume, low, and high price, calculate the\n",
    "Money Flow Index for each day over a sliding window of n days (n will be given). The first Money\n",
    "Flow Index value is calculated for the (n + 1)th day.\n",
    "Function Description Create the moneyFlowIndex function. The function must create a file\n",
    "money_flow_index_[n].csv containing the headers: Day, Open, High, Low, Close,\n",
    "Volume, Typical Price, Positive Money Flow, Negative Money Flow, Positive Money Flow Sum,\n",
    "Negative Money Flow Sum, and Money Flow Index as described in the examples above. The\n",
    "money flow index should be calculated over a sliding window of n days, inclusive of the day for\n",
    "which it is calculated. No return value is expected.\n",
    "moneyFlowIndex has two parameters: filename: a string describing the name of the input\n",
    "CSV file containing the headers: Day, Open, High, Low, Close, and Volume n: an integer\n",
    "Evaluation The output file must meet the following conditions:\n",
    "• The output CSV file must contain the headers in the given order: Day, Open, High, Low,\n",
    "Close, Volume, Typical Price, Positive Money Flow, Negative Money Flow, Positive\n",
    "Money Flow Sum, Negative Money Flow Sum, and Money Flow Index.\n",
    "• The Day, Open, High, Low, Close, and Volume must exactly match with the values given\n",
    "in the input CSV file.\n",
    "• The computed values of Typical Price, Positive Money Flow, Negative Money Flow,\n",
    "Positive Money Flow Sum, Negative\n",
    "• Money Flow Sum, and Money Flow Index value should not deviate from the correct values\n",
    "by more than 10-6.\n",
    "The values of n provided will always be such that it is possible to calculate the money flow index\n",
    "over n days.\n"
   ]
  },
  {
   "cell_type": "code",
   "execution_count": null,
   "metadata": {},
   "outputs": [],
   "source": []
  },
  {
   "cell_type": "markdown",
   "metadata": {},
   "source": [
    "# Bonus task\n",
    "You are given an array in which all values appear exactly twice, except one value that appears\n",
    "odd number of times. Order of values is arbitrary. Find that value, but with following constrains:\n",
    "• You may loop through the array only once.\n",
    "• You may not use variables of complex type (e.g. lists, sets, etc.), but only one variable\n",
    "which stores a single value (e.g. bool, int, float, char).\n",
    "Sample input\n",
    "[3,5,1,19,5,3,3,2,2,1,19]\n",
    "Sample output\n",
    "3\n"
   ]
  },
  {
   "cell_type": "code",
   "execution_count": null,
   "metadata": {},
   "outputs": [],
   "source": []
  }
 ],
 "metadata": {
  "kernelspec": {
   "display_name": "Python 3",
   "language": "python",
   "name": "python3"
  },
  "language_info": {
   "codemirror_mode": {
    "name": "ipython",
    "version": 3
   },
   "file_extension": ".py",
   "mimetype": "text/x-python",
   "name": "python",
   "nbconvert_exporter": "python",
   "pygments_lexer": "ipython3",
   "version": "3.7.6"
  }
 },
 "nbformat": 4,
 "nbformat_minor": 4
}
